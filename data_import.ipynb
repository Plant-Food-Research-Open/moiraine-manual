{
  "cells": [
    {
      "cell_type": "markdown",
      "metadata": {},
      "source": [
        "# Importing data\n",
        "\n",
        "In this chapter, we will see how to import several omics datasets into R, and how to combine them into a MultiDataSet object (from the `MultiDataSet` package) that contains the omics datasets along with their associated features and samples metadata.\n",
        "\n",
        "## The _targets.R script\n",
        "\n",
        "As we are starting the analysis, the `_targets.R` script should look like this:\n",
        "\n",
        "\n",
        "```{file targets-script-start}\n",
        "library(targets)\n",
        "library(tarchetypes)\n",
        "library(moiraine)\n",
        "\n",
        "here::i_am(\"_targets.R\")\n",
        "\n",
        "tar_option_set(\n",
        "  packages = c(\n",
        "    \"moiraine\",\n",
        "    \"MultiDataSet\"\n",
        "    \"mixOmics\",\n",
        "    \"MOFA2\",\n",
        "    \"readr\",\n",
        "    \"dplyr\",\n",
        "    \"ggplot2\",\n",
        "    \"patchwork\"\n",
        "  )\n",
        ")\n",
        "\n",
        "list(\n",
        " ## targets will go here\n",
        ")\n",
        "```"
      ],
      "id": "505fd170"
    }
  ],
  "metadata": {
    "kernelspec": {
      "display_name": "Python 3",
      "language": "python",
      "name": "python3"
    }
  },
  "nbformat": 4,
  "nbformat_minor": 5
}